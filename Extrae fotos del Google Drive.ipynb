{
 "cells": [
  {
   "cell_type": "code",
   "execution_count": 14,
   "id": "5cb14946-c8a7-4716-90d1-35469637af5f",
   "metadata": {},
   "outputs": [
    {
     "name": "stdout",
     "output_type": "stream",
     "text": [
      "Ya existe: dji_export_1650199192675.jpg\n",
      "Ya existe: 20250221_105941.jpg\n",
      "Descargando: LC-941.jpg\n",
      "✅ Imagen guardada: LC-941.jpg\n"
     ]
    }
   ],
   "source": [
    "import os\n",
    "import io\n",
    "import pickle\n",
    "from google.auth.transport.requests import Request\n",
    "from google_auth_oauthlib.flow import InstalledAppFlow\n",
    "from googleapiclient.discovery import build\n",
    "from googleapiclient.http import MediaIoBaseDownload\n",
    "\n",
    "# Scopes necesarios para acceder a Drive\n",
    "SCOPES = ['https://www.googleapis.com/auth/drive.readonly']\n",
    "\n",
    "# Autenticación con token reutilizable\n",
    "def authenticate_drive():\n",
    "    creds = None\n",
    "    if os.path.exists('token.pickle'):\n",
    "        with open('token.pickle', 'rb') as token:\n",
    "            creds = pickle.load(token)\n",
    "\n",
    "    if not creds or not creds.valid:\n",
    "        if creds and creds.expired and creds.refresh_token:\n",
    "            creds.refresh(Request())\n",
    "        else:\n",
    "            flow = InstalledAppFlow.from_client_secrets_file('credentials.json', SCOPES)\n",
    "            creds = flow.run_local_server(port=0)\n",
    "        with open('token.pickle', 'wb') as token:\n",
    "            pickle.dump(creds, token)\n",
    "\n",
    "    service = build('drive', 'v3', credentials=creds)\n",
    "    return service\n",
    "\n",
    "# Descargar solo imágenes nuevas\n",
    "def download_images_from_folder(service, folder_id, output_dir='imagenes_descargadas'):\n",
    "    os.makedirs(output_dir, exist_ok=True)\n",
    "\n",
    "    # lista de archivos ya descargados\n",
    "    archivos_locales = set(os.listdir(output_dir))\n",
    "\n",
    "    # Buscar imágenes en la carpeta de Drive\n",
    "    query = f\"'{folder_id}' in parents and mimeType contains 'image/'\"\n",
    "    results = service.files().list(q=query, fields=\"files(id, name)\").execute()\n",
    "    items = results.get('files', [])\n",
    "\n",
    "    if not items:\n",
    "        print(\"No se encontraron imágenes en la carpeta.\")\n",
    "        return\n",
    "\n",
    "    for item in items:\n",
    "        file_id = item['id']\n",
    "        file_name = item['name']\n",
    "\n",
    "        if file_name in archivos_locales:\n",
    "            print(f\"Ya existe: {file_name}\")\n",
    "            continue\n",
    "\n",
    "        print(f\"Descargando: {file_name}\")\n",
    "        request = service.files().get_media(fileId=file_id)\n",
    "        local_path = os.path.join(output_dir, file_name)\n",
    "        fh = io.FileIO(local_path, 'wb')\n",
    "        downloader = MediaIoBaseDownload(fh, request)\n",
    "        done = False\n",
    "        while not done:\n",
    "            status, done = downloader.next_chunk()\n",
    "        print(f\"✅ Imagen guardada: {file_name}\")\n",
    "\n",
    "# Ejecutar el script\n",
    "if __name__ == '__main__':\n",
    "    folder_id = '1X8W66foKIso8NTygY5d0GRbps7gGfB8D'  # Reemplazá con el ID real de tu carpeta\n",
    "    service = authenticate_drive()\n",
    "    download_images_from_folder(service, folder_id)\n"
   ]
  },
  {
   "cell_type": "code",
   "execution_count": null,
   "id": "36f80208-c894-4305-bece-931372391ce4",
   "metadata": {},
   "outputs": [],
   "source": []
  }
 ],
 "metadata": {
  "kernelspec": {
   "display_name": "Python (Boris_env)",
   "language": "python",
   "name": "boris_env"
  },
  "language_info": {
   "codemirror_mode": {
    "name": "ipython",
    "version": 3
   },
   "file_extension": ".py",
   "mimetype": "text/x-python",
   "name": "python",
   "nbconvert_exporter": "python",
   "pygments_lexer": "ipython3",
   "version": "3.11.13"
  }
 },
 "nbformat": 4,
 "nbformat_minor": 5
}
