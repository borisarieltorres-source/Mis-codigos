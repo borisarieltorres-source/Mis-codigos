{
 "cells": [
  {
   "cell_type": "code",
   "execution_count": 4,
   "id": "7fdb3f18-acdf-4e27-8802-7e6d9314a173",
   "metadata": {},
   "outputs": [
    {
     "name": "stdout",
     "output_type": "stream",
     "text": [
      "Please visit this URL to authorize this application: https://accounts.google.com/o/oauth2/auth?response_type=code&client_id=922454463358-e591havahtdqi5eo84nfiv4ipfl45tci.apps.googleusercontent.com&redirect_uri=http%3A%2F%2Flocalhost%3A59178%2F&scope=https%3A%2F%2Fwww.googleapis.com%2Fauth%2Fdrive.readonly&state=ELtMMRxtmj3EigimxqkOQUzKBpM6Z7&access_type=offline\n",
      "Descargando: dji_export_1650199192675.jpg\n",
      "✅ Imagen guardada: dji_export_1650199192675.jpg\n"
     ]
    }
   ],
   "source": [
    "import os\n",
    "import io\n",
    "from google.oauth2.credentials import Credentials\n",
    "from google_auth_oauthlib.flow import InstalledAppFlow\n",
    "from googleapiclient.discovery import build\n",
    "from googleapiclient.http import MediaIoBaseDownload\n",
    "\n",
    "# Scopes necesarios para acceder a Drive\n",
    "SCOPES = ['https://www.googleapis.com/auth/drive.readonly']\n",
    "\n",
    "# Autenticación con OAuth\n",
    "def authenticate_drive():\n",
    "    flow = InstalledAppFlow.from_client_secrets_file('credentials.json', SCOPES)\n",
    "    creds = flow.run_local_server(port=0)\n",
    "    service = build('drive', 'v3', credentials=creds)\n",
    "    return service\n",
    "\n",
    "# Descargar imágenes desde una carpeta específica\n",
    "def download_images_from_folder(service, folder_id, output_dir='imagenes_descargadas'):\n",
    "    os.makedirs(output_dir, exist_ok=True)\n",
    "    query = f\"'{folder_id}' in parents and mimeType contains 'image/'\"\n",
    "    results = service.files().list(q=query, fields=\"files(id, name)\").execute()\n",
    "    items = results.get('files', [])\n",
    "\n",
    "    if not items:\n",
    "        print(\"No se encontraron imágenes en la carpeta.\")\n",
    "        return\n",
    "\n",
    "    for item in items:\n",
    "        file_id = item['id']\n",
    "        file_name = item['name']\n",
    "        print(f\"Descargando: {file_name}\")\n",
    "        request = service.files().get_media(fileId=file_id)\n",
    "        fh = io.FileIO(os.path.join(output_dir, file_name), 'wb')\n",
    "        downloader = MediaIoBaseDownload(fh, request)\n",
    "        done = False\n",
    "        while not done:\n",
    "            status, done = downloader.next_chunk()\n",
    "        print(f\"✅ Imagen guardada: {file_name}\")\n",
    "\n",
    "# Ejecutar el script\n",
    "if __name__ == '__main__':\n",
    "    folder_id = '1X8W66foKIso8NTygY5d0GRbps7gGfB8D'# Reemplazá esto con el ID real de tu carpeta\n",
    "    service = authenticate_drive()\n",
    "    download_images_from_folder(service, folder_id)\n"
   ]
  },
  {
   "cell_type": "code",
   "execution_count": null,
   "id": "a9c53631-e486-4902-bfde-17521d151899",
   "metadata": {},
   "outputs": [],
   "source": []
  }
 ],
 "metadata": {
  "kernelspec": {
   "display_name": "Python (Boris_env)",
   "language": "python",
   "name": "boris_env"
  },
  "language_info": {
   "codemirror_mode": {
    "name": "ipython",
    "version": 3
   },
   "file_extension": ".py",
   "mimetype": "text/x-python",
   "name": "python",
   "nbconvert_exporter": "python",
   "pygments_lexer": "ipython3",
   "version": "3.11.13"
  }
 },
 "nbformat": 4,
 "nbformat_minor": 5
}
